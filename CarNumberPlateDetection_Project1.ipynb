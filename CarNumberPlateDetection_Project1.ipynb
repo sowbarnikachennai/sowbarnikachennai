{
  "nbformat": 4,
  "nbformat_minor": 0,
  "metadata": {
    "colab": {
      "name": "CarNumberPlateDetection-Project1.ipynb",
      "provenance": [],
      "toc_visible": true,
      "authorship_tag": "ABX9TyOF8Vj8xLZ23bXiPiRfp6ID",
      "include_colab_link": true
    },
    "kernelspec": {
      "name": "python3",
      "display_name": "Python 3"
    },
    "language_info": {
      "name": "python"
    }
  },
  "cells": [
    {
      "cell_type": "markdown",
      "metadata": {
        "id": "view-in-github",
        "colab_type": "text"
      },
      "source": [
        "<a href=\"https://colab.research.google.com/github/sowbarnikachennai/sowbarnikachennai/blob/AIML/CarNumberPlateDetection_Project1.ipynb\" target=\"_parent\"><img src=\"https://colab.research.google.com/assets/colab-badge.svg\" alt=\"Open In Colab\"/></a>"
      ]
    },
    {
      "cell_type": "code",
      "metadata": {
        "id": "yW9y0g3VYCl5",
        "colab": {
          "base_uri": "https://localhost:8080/"
        },
        "outputId": "5fae3d9a-5f29-4905-e242-95df798d83e8"
      },
      "source": [
        "! pip install opencv-python"
      ],
      "execution_count": 2,
      "outputs": [
        {
          "output_type": "stream",
          "text": [
            "Requirement already satisfied: opencv-python in /usr/local/lib/python3.7/dist-packages (4.1.2.30)\n",
            "Requirement already satisfied: numpy>=1.14.5 in /usr/local/lib/python3.7/dist-packages (from opencv-python) (1.19.5)\n"
          ],
          "name": "stdout"
        }
      ]
    },
    {
      "cell_type": "markdown",
      "metadata": {
        "id": "9vHhkBmyYK3s"
      },
      "source": [
        "# **Contours**"
      ]
    },
    {
      "cell_type": "markdown",
      "metadata": {
        "id": "1i6efHVuYge7"
      },
      "source": [
        "**Contour**"
      ]
    },
    {
      "cell_type": "code",
      "metadata": {
        "id": "Fkn-QCyaYR1z"
      },
      "source": [
        "import cv2\n",
        "from google.colab.patches import cv2_imshow\n",
        "import imutils\n"
      ],
      "execution_count": 3,
      "outputs": []
    },
    {
      "cell_type": "code",
      "metadata": {
        "id": "zgp5WP1QYsPD",
        "colab": {
          "base_uri": "https://localhost:8080/",
          "height": 467
        },
        "outputId": "74659b0f-ebc3-468d-b4f1-16df5858e5fa"
      },
      "source": [
        "image = cv2.imread(\"Shapes.png\")\n",
        "gray = cv2.cvtColor(image,cv2.COLOR_BGR2GRAY)\n",
        "cv2_imshow(image)\n",
        "cv2_imshow(gray)"
      ],
      "execution_count": 5,
      "outputs": [
        {
          "output_type": "display_data",
          "data": {
            "image/png": "[encoded data removed]",
            "text/plain": [
              "<PIL.Image.Image image mode=RGB size=225x225 at 0x7FD24D57DD90>"
            ]
          },
          "metadata": {
            "tags": []
          }
        },
        {
          "output_type": "display_data",
          "data": {
            "image/png": "[encoded data removed]",
            "text/plain": [
              "<PIL.Image.Image image mode=L size=225x225 at 0x7FD24D4F1E90>"
            ]
          },
          "metadata": {
            "tags": []
          }
        }
      ]
    },
    {
      "cell_type": "markdown",
      "metadata": {
        "id": "jSa3YLWkZuXl"
      },
      "source": [
        "**Internal Contour**"
      ]
    },
    {
      "cell_type": "code",
      "metadata": {
        "id": "zNlFQoq-ZyQm",
        "colab": {
          "base_uri": "https://localhost:8080/",
          "height": 242
        },
        "outputId": "e92fd828-496d-4dce-9a8e-ed2fc61c51ed"
      },
      "source": [
        "cnts,_ = cv2.findContours(gray.copy(),cv2.RETR_LIST,cv2.CHAIN_APPROX_SIMPLE)\n",
        "cnts = cnts[0] if imutils.is_cv2() else cnts[1]\n",
        "clone = image.copy()\n",
        "cv2.drawContours(clone, cnts, -1,(0, 255, 0),2)\n",
        "cv2_imshow(clone)"
      ],
      "execution_count": 9,
      "outputs": [
        {
          "output_type": "display_data",
          "data": {
            "image/png": "[encoded data removed]",
            "text/plain": [
              "<PIL.Image.Image image mode=RGB size=225x225 at 0x7FD24D48AE50>"
            ]
          },
          "metadata": {
            "tags": []
          }
        }
      ]
    },
    {
      "cell_type": "markdown",
      "metadata": {
        "id": "KNxpz3LjizPB"
      },
      "source": [
        "# **Car Number Plate Detection**"
      ]
    },
    {
      "cell_type": "code",
      "metadata": {
        "id": "y2gP-Ai9iqJS"
      },
      "source": [
        "image = cv2.imread(\"car_license_plate.jpg\")\n",
        "image = imutils.resize(image,width=500)\n",
        "gray = cv2.cvtColor(image,cv2.COLOR_BGR2GRAY)"
      ],
      "execution_count": null,
      "outputs": []
    },
    {
      "cell_type": "code",
      "metadata": {
        "id": "lqMG0WpsjZ84"
      },
      "source": [
        "cv2_imshow(image)"
      ],
      "execution_count": null,
      "outputs": []
    },
    {
      "cell_type": "code",
      "metadata": {
        "id": "FrWkgFq6jgY0"
      },
      "source": [
        "cv2_imshow(gray)"
      ],
      "execution_count": null,
      "outputs": []
    },
    {
      "cell_type": "code",
      "metadata": {
        "id": "QA-EzeEAjkvq",
        "colab": {
          "base_uri": "https://localhost:8080/",
          "height": 242
        },
        "outputId": "2f2086ea-d4a3-47b8-d465-1d4faed46d44"
      },
      "source": [
        "(T,threshInv) = cv2.threshold(gray,0,255,cv2.THRESH_BINARY_INV | cv2.THRESH_OTSU)\n",
        "cv2_imshow(threshInv)"
      ],
      "execution_count": 11,
      "outputs": [
        {
          "output_type": "display_data",
          "data": {
            "image/png": "[encoded data removed]",
            "text/plain": [
              "<PIL.Image.Image image mode=L size=225x225 at 0x7FD24D485ED0>"
            ]
          },
          "metadata": {
            "tags": []
          }
        }
      ]
    },
    {
      "cell_type": "code",
      "metadata": {
        "colab": {
          "base_uri": "https://localhost:8080/",
          "height": 1000
        },
        "id": "-ftx6Usvksvm",
        "outputId": "b2ec488d-19bb-4ee3-fcdd-52cb50b9849f"
      },
      "source": [
        "cnts,_ = cv2.findContours(threshInv.copy(), cv2.RETR_LIST, cv2.CHAIN_APPROX_SIMPLE)\n",
        "cnts = cnts[0] if imutils.is_cv2() else cnts[1]\n",
        "clone = image.copy()\n",
        "for i in cnts:\n",
        "  x,y,w,h=cv2.boundingRect(i)\n",
        "  print(x,y,w,h)\n",
        "\n",
        "  if (w<100 and w>0 and h<100 and h>0):\n",
        "    print(x,y,w,h)\n",
        "    cv2.rectangle(image,(x,y),(x+w,y+h),(0,255,0),2)\n",
        "cv2_imshow(image)"
      ],
      "execution_count": 12,
      "outputs": [
        {
          "output_type": "stream",
          "text": [
            "25 126 1 1\n",
            "25 126 1 1\n",
            "25 127 1 1\n",
            "25 127 1 1\n",
            "24 128 1 1\n",
            "24 128 1 1\n",
            "24 129 1 1\n",
            "24 129 1 1\n",
            "23 130 1 1\n",
            "23 130 1 1\n",
            "23 132 1 1\n",
            "23 132 1 1\n",
            "22 133 1 1\n",
            "22 133 1 1\n",
            "22 134 1 1\n",
            "22 134 1 1\n",
            "21 135 1 1\n",
            "21 135 1 1\n",
            "21 136 1 1\n",
            "21 136 1 1\n",
            "20 137 1 1\n",
            "20 137 1 1\n",
            "20 139 1 1\n",
            "20 139 1 1\n",
            "19 140 1 1\n",
            "19 140 1 1\n",
            "19 141 1 1\n",
            "19 141 1 1\n",
            "18 142 1 1\n",
            "18 142 1 1\n",
            "18 143 1 1\n",
            "18 143 1 1\n",
            "17 144 1 1\n",
            "17 144 1 1\n",
            "17 146 1 1\n",
            "17 146 1 1\n",
            "16 147 1 1\n",
            "16 147 1 1\n",
            "16 148 1 1\n",
            "16 148 1 1\n",
            "15 149 1 1\n",
            "15 149 1 1\n",
            "15 151 1 1\n",
            "15 151 1 1\n",
            "14 152 1 1\n",
            "14 152 1 1\n",
            "14 153 1 1\n",
            "14 153 1 1\n",
            "13 154 1 1\n",
            "13 154 1 1\n",
            "13 155 1 1\n",
            "13 155 1 1\n",
            "12 156 1 1\n",
            "12 156 1 1\n",
            "12 158 1 1\n",
            "12 158 1 1\n",
            "11 159 1 1\n",
            "11 159 1 1\n",
            "11 160 1 1\n",
            "11 160 1 1\n",
            "10 161 1 1\n",
            "10 161 1 1\n",
            "10 163 1 1\n",
            "10 163 1 1\n",
            "9 164 1 1\n",
            "9 164 1 1\n",
            "9 165 1 1\n",
            "9 165 1 1\n",
            "8 166 1 1\n",
            "8 166 1 1\n",
            "8 167 1 1\n",
            "8 167 1 1\n",
            "7 168 1 1\n",
            "7 168 1 1\n",
            "7 170 1 1\n",
            "7 170 1 1\n",
            "6 171 1 1\n",
            "6 171 1 1\n",
            "6 172 1 1\n",
            "6 172 1 1\n",
            "5 173 1 1\n",
            "5 173 1 1\n",
            "5 174 1 1\n",
            "5 174 1 1\n",
            "4 175 1 1\n",
            "4 175 1 1\n",
            "4 178 1 1\n",
            "4 178 1 1\n",
            "14 178 1 1\n",
            "14 178 1 1\n",
            "15 179 1 1\n",
            "15 179 1 1\n",
            "15 197 1 1\n",
            "15 197 1 1\n",
            "35 197 1 1\n",
            "35 197 1 1\n",
            "35 178 1 1\n",
            "35 178 1 1\n",
            "36 177 1 1\n",
            "36 177 1 1\n",
            "37 178 1 1\n",
            "37 178 1 1\n",
            "46 178 1 1\n",
            "46 178 1 1\n",
            "46 175 1 1\n",
            "46 175 1 1\n",
            "45 174 1 1\n",
            "45 174 1 1\n",
            "45 173 1 1\n",
            "45 173 1 1\n",
            "44 172 1 1\n",
            "44 172 1 1\n",
            "44 171 1 1\n",
            "44 171 1 1\n",
            "43 170 1 1\n",
            "43 170 1 1\n",
            "43 168 1 1\n",
            "43 168 1 1\n",
            "42 167 1 1\n",
            "42 167 1 1\n",
            "42 166 1 1\n",
            "42 166 1 1\n",
            "41 165 1 1\n",
            "41 165 1 1\n",
            "41 164 1 1\n",
            "41 164 1 1\n",
            "40 163 1 1\n",
            "40 163 1 1\n",
            "40 161 1 1\n",
            "40 161 1 1\n",
            "39 160 1 1\n",
            "39 160 1 1\n",
            "39 159 1 1\n",
            "39 159 1 1\n",
            "38 158 1 1\n",
            "38 158 1 1\n",
            "38 157 1 1\n",
            "38 157 1 1\n",
            "37 156 1 1\n",
            "37 156 1 1\n",
            "37 154 1 1\n",
            "37 154 1 1\n",
            "36 153 1 1\n",
            "36 153 1 1\n",
            "36 152 1 1\n",
            "36 152 1 1\n",
            "35 151 1 1\n",
            "35 151 1 1\n",
            "35 150 1 1\n",
            "35 150 1 1\n",
            "34 149 1 1\n",
            "34 149 1 1\n",
            "34 147 1 1\n",
            "34 147 1 1\n",
            "33 146 1 1\n",
            "33 146 1 1\n",
            "33 145 1 1\n",
            "33 145 1 1\n",
            "32 144 1 1\n",
            "32 144 1 1\n",
            "32 142 1 1\n",
            "32 142 1 1\n",
            "31 141 1 1\n",
            "31 141 1 1\n",
            "31 140 1 1\n",
            "31 140 1 1\n",
            "30 139 1 1\n",
            "30 139 1 1\n",
            "30 138 1 1\n",
            "30 138 1 1\n",
            "29 137 1 1\n",
            "29 137 1 1\n",
            "29 135 1 1\n",
            "29 135 1 1\n",
            "28 134 1 1\n",
            "28 134 1 1\n",
            "28 133 1 1\n",
            "28 133 1 1\n",
            "27 132 1 1\n",
            "27 132 1 1\n",
            "27 131 1 1\n",
            "27 131 1 1\n",
            "26 130 1 1\n",
            "26 130 1 1\n",
            "26 129 1 1\n",
            "26 129 1 1\n",
            "25 128 1 1\n",
            "25 128 1 1\n"
          ],
          "name": "stdout"
        },
        {
          "output_type": "display_data",
          "data": {
            "image/png": "[encoded data removed]",
            "text/plain": [
              "<PIL.Image.Image image mode=RGB size=225x225 at 0x7FD24D3FED10>"
            ]
          },
          "metadata": {
            "tags": []
          }
        }
      ]
    },
    {
      "cell_type": "code",
      "metadata": {
        "id": "J_CYhsc0lIaG"
      },
      "source": [
        ""
      ],
      "execution_count": null,
      "outputs": []
    }
  ]
}